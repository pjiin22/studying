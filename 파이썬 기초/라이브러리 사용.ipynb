{
  "nbformat": 4,
  "nbformat_minor": 0,
  "metadata": {
    "colab": {
      "provenance": []
    },
    "kernelspec": {
      "name": "python3",
      "display_name": "Python 3"
    },
    "language_info": {
      "name": "python"
    }
  },
  "cells": [
    {
      "cell_type": "markdown",
      "source": [
        "# **라이브러리 사용**\n",
        "\n",
        "---\n"
      ],
      "metadata": {
        "id": "STgStzGgDwqD"
      }
    },
    {
      "cell_type": "markdown",
      "source": [
        "## **[1] 라이브러리란?**\n",
        " - 다른 사람들이 만들어 둔 유용한 함수들의 모음\n",
        " - 자주 사용하는 기능을 쉽게 재사용할 수 있고 다른 사람과도 그 기능을 공유할 수 있습니다.\n",
        " - 표준 라이브러리: 파이썬을 설치할 때 자동으로 설치됩니다.\n",
        " - 외부 라이브러리: 기본으로 설치된 라이브러리가 아니므로 새로 설치해 주어야 합니다.\n",
        "\n",
        "\n",
        "    import 라이브러리명\n",
        "\n",
        "- 외부 라이브러리를 다운 받으려면\n",
        "\n",
        "\n",
        "    !pip install 라이브러리명"
      ],
      "metadata": {
        "id": "o-bpVy3PETEF"
      }
    },
    {
      "cell_type": "markdown",
      "source": [
        "\n",
        "## **[2] 살펴볼 라이브러리**\n",
        "- `random`\n",
        "- `datetime`\n",
        "- `math`\n",
        "- `numpy`\n",
        "- `Counter`"
      ],
      "metadata": {
        "id": "z5uMEEmsFLUW"
      }
    },
    {
      "cell_type": "markdown",
      "source": [
        "## `random`\n",
        "|함수명|설명|\n",
        "|:--|:--|\n",
        "|random()| 0~1 사이의 실수형의 수를 반환합니다.|\n",
        "|randint(시작, 끝)| 특정 범위 안의 랜덤한 정수를 반환합니다.|\n",
        "|random.choice(리스트)| 리스트 중에 랜덤하게 요소를 뽑습니다.|\n",
        "|random.sample(리스트, 갯수)| 리스트 중 입력한 갯수만큼 랜덤하게 요소를 뽑습니다.|\n",
        "|random.shuffle(리스트)| 리스트를 랜덤하게 섞습니다.|"
      ],
      "metadata": {
        "id": "PsNEJ5jlccVo"
      }
    },
    {
      "cell_type": "code",
      "execution_count": null,
      "metadata": {
        "id": "Cm3hmgSSDvq9"
      },
      "outputs": [],
      "source": [
        "random()"
      ]
    },
    {
      "cell_type": "code",
      "source": [
        "import random\n",
        "\n",
        "random.random()"
      ],
      "metadata": {
        "id": "ColEJJKFcq8w"
      },
      "execution_count": null,
      "outputs": []
    },
    {
      "cell_type": "code",
      "source": [
        "random.randint(1, 1000)"
      ],
      "metadata": {
        "id": "4M17wGCxcuJU"
      },
      "execution_count": null,
      "outputs": []
    },
    {
      "cell_type": "code",
      "source": [
        "a = [i for i in range(5)]\n",
        "random.choice(a)"
      ],
      "metadata": {
        "id": "5duDsClkrbxI"
      },
      "execution_count": null,
      "outputs": []
    },
    {
      "cell_type": "code",
      "source": [
        "random.sample(a, 2)"
      ],
      "metadata": {
        "id": "cLISTWpLrhmn"
      },
      "execution_count": null,
      "outputs": []
    },
    {
      "cell_type": "code",
      "source": [
        "random.shuffle(a)\n",
        "print(a)"
      ],
      "metadata": {
        "id": "PaiTzNGerjLy"
      },
      "execution_count": null,
      "outputs": []
    },
    {
      "cell_type": "markdown",
      "source": [
        "## `datetime`\n",
        "- `datetime` 클래스: 날짜와 시간을 저장합니다.\n",
        "\n",
        "|함수|설명|\n",
        "|:--|:--|\n",
        "|now()|현재 시각을 반환합니다. (timezone에 유의합니다.)|\n",
        "|year, month, day, hour, minute, second, microsecond|날짜, 시간 값을 반환합니다.|\n",
        "|date()| 연월일로 이루어진 날짜 객체를 반환합니다.|\n",
        "|time()|시간 객체를 반환합니다.|\n",
        "|strftime('날짜형식')| 날짜와 시간 정보를 문자열로 변환합니다.|\n",
        "|strptime(문자열, 날짜형식)|문자열을 날짜로 변환합니다.|\n",
        "\n",
        "- `timedelta` 클래스: 시간 구간을 저장하며 날짜 연산을 할 때 쓰입니다."
      ],
      "metadata": {
        "id": "y0yCs4w2tFO_"
      }
    },
    {
      "cell_type": "code",
      "source": [
        "from datetime import datetime\n",
        "from pytz import timezone\n",
        "from datetime import timedelta"
      ],
      "metadata": {
        "id": "Betugj6orp11"
      },
      "execution_count": null,
      "outputs": []
    },
    {
      "cell_type": "code",
      "source": [
        "print(datetime.now())\n",
        "print(datetime.now(timezone('UTC')))\n",
        "print(datetime.now(timezone('Asia/Seoul')))"
      ],
      "metadata": {
        "id": "ssm6XTSnuKw4"
      },
      "execution_count": null,
      "outputs": []
    },
    {
      "cell_type": "code",
      "source": [
        "x = datetime.now(timezone('Asia/Seoul'))\n",
        "print(x)\n",
        "print(x.year, x.month, x.day, x.hour, x.minute, x.second, x.microsecond)\n",
        "print(x.date(), x.time())\n",
        "print(x.weekday()) # {0:월, 1:화, 2:수, 3:목, 4:금, 5:토, 6:일}"
      ],
      "metadata": {
        "id": "bphemtAQum_m"
      },
      "execution_count": null,
      "outputs": []
    },
    {
      "cell_type": "code",
      "source": [
        "x.strftime('%Y-%m-%d')"
      ],
      "metadata": {
        "id": "bcZA1mSxu2aJ"
      },
      "execution_count": null,
      "outputs": []
    },
    {
      "cell_type": "code",
      "source": [
        "x.strftime('%Y%m%d')"
      ],
      "metadata": {
        "id": "Hj4erb6vPY-v"
      },
      "execution_count": null,
      "outputs": []
    },
    {
      "cell_type": "code",
      "source": [
        "x.strftime('%Y/%m')"
      ],
      "metadata": {
        "id": "Bh06fp15PgOO"
      },
      "execution_count": null,
      "outputs": []
    },
    {
      "cell_type": "code",
      "source": [
        "datetime.strptime('2023-05-01', '%Y-%m-%d')"
      ],
      "metadata": {
        "id": "I5RvuQJhwtYz"
      },
      "execution_count": null,
      "outputs": []
    },
    {
      "cell_type": "code",
      "source": [
        "x"
      ],
      "metadata": {
        "id": "IyU11xFjP6F6"
      },
      "execution_count": null,
      "outputs": []
    },
    {
      "cell_type": "code",
      "source": [
        "x - timedelta(days=7)"
      ],
      "metadata": {
        "id": "TntvdJP-xkU1"
      },
      "execution_count": null,
      "outputs": []
    },
    {
      "cell_type": "code",
      "source": [
        "(x + timedelta(days=30)).strftime('%Y-%m-%d')"
      ],
      "metadata": {
        "id": "_SKWDgUHyGem"
      },
      "execution_count": null,
      "outputs": []
    },
    {
      "cell_type": "code",
      "source": [
        "from dateutil.relativedelta import relativedelta\n",
        "\n",
        "x - relativedelta(months=1)"
      ],
      "metadata": {
        "id": "eryKYVgHyKW2"
      },
      "execution_count": null,
      "outputs": []
    },
    {
      "cell_type": "code",
      "source": [
        "x + relativedelta(years=2)"
      ],
      "metadata": {
        "id": "VM17uj6jySab"
      },
      "execution_count": null,
      "outputs": []
    },
    {
      "cell_type": "markdown",
      "source": [
        "## `math`\n",
        "\n",
        "|함수|\t설명|\n",
        "|:--|:--|\n",
        "|math.pi|\t원주율|\n",
        "|math.e|\t자연상수|\n",
        "|abs()|\t절댓값(내장함수)|\n",
        "|round()|\t반올림(내장함수)|\n",
        "|math.ceil()|올림|\n",
        "|math.floor()|내림|\n",
        "|math.factorial()|\t팩토리얼|\n",
        "|math.pow()|\t제곱 연산|\n",
        "|math.sqrt()|\t제곱근 연산|"
      ],
      "metadata": {
        "id": "0NGGwmhdyWux"
      }
    },
    {
      "cell_type": "code",
      "source": [
        "import math\n",
        "\n",
        "math.pi"
      ],
      "metadata": {
        "id": "Iki6IR9TyT9V"
      },
      "execution_count": null,
      "outputs": []
    },
    {
      "cell_type": "code",
      "source": [
        "math.e"
      ],
      "metadata": {
        "id": "V-fCtEkFz5fR"
      },
      "execution_count": null,
      "outputs": []
    },
    {
      "cell_type": "code",
      "source": [
        "abs(-314)"
      ],
      "metadata": {
        "id": "GwKF_HLjz8F7"
      },
      "execution_count": null,
      "outputs": []
    },
    {
      "cell_type": "code",
      "source": [
        "round(2.123, 2)"
      ],
      "metadata": {
        "id": "BAo5aaCxz9n1"
      },
      "execution_count": null,
      "outputs": []
    },
    {
      "cell_type": "code",
      "source": [
        "math.ceil(2.124)"
      ],
      "metadata": {
        "id": "6jM6e9kmz_Hx"
      },
      "execution_count": null,
      "outputs": []
    },
    {
      "cell_type": "code",
      "source": [
        "math.floor(2.124)"
      ],
      "metadata": {
        "id": "Q0HGLkd80Air"
      },
      "execution_count": null,
      "outputs": []
    },
    {
      "cell_type": "code",
      "source": [
        "math.factorial(5)"
      ],
      "metadata": {
        "id": "YXPSgIuX0RWt"
      },
      "execution_count": null,
      "outputs": []
    },
    {
      "cell_type": "code",
      "source": [
        "math.pow(5, 3)"
      ],
      "metadata": {
        "id": "z4qPj26Z0UNO"
      },
      "execution_count": null,
      "outputs": []
    },
    {
      "cell_type": "code",
      "source": [
        "math.sqrt(25)"
      ],
      "metadata": {
        "id": "VEqYOtEN0VEo"
      },
      "execution_count": null,
      "outputs": []
    },
    {
      "cell_type": "markdown",
      "source": [
        "## `numpy`\n",
        "- 벡터 / 행렬 연산을 도와주는 라이브러리"
      ],
      "metadata": {
        "id": "9llHKwZU0l81"
      }
    },
    {
      "cell_type": "code",
      "source": [
        "import numpy as np"
      ],
      "metadata": {
        "id": "NL8lY_bC0bjF"
      },
      "execution_count": null,
      "outputs": []
    },
    {
      "cell_type": "code",
      "source": [
        "ls = random.sample([i for i in range(1000)],100)"
      ],
      "metadata": {
        "id": "Vo4cF2R820ph"
      },
      "execution_count": null,
      "outputs": []
    },
    {
      "cell_type": "code",
      "source": [
        "print(np.mean(ls))\n",
        "print(np.var(ls))\n",
        "print(np.std(ls))\n",
        "print(np.sum(ls))"
      ],
      "metadata": {
        "id": "O1tmNfLz29WQ"
      },
      "execution_count": null,
      "outputs": []
    },
    {
      "cell_type": "markdown",
      "source": [
        "## Counter"
      ],
      "metadata": {
        "id": "S5NM9v7Z3yBV"
      }
    },
    {
      "cell_type": "code",
      "source": [
        "from collections import Counter\n",
        "\n",
        "ls = ['a','a','b','b','b','c','d','d','d','d']\n",
        "Counter(ls)"
      ],
      "metadata": {
        "id": "iZ7Cgf4t3tJR"
      },
      "execution_count": null,
      "outputs": []
    },
    {
      "cell_type": "code",
      "source": [
        "count_dic = Counter(ls)\n",
        "print(count_dic.most_common())\n",
        "print(count_dic.most_common(1))\n",
        "print(count_dic.most_common(2))"
      ],
      "metadata": {
        "id": "xTh_yOAk4JgC"
      },
      "execution_count": null,
      "outputs": []
    }
  ]
}
