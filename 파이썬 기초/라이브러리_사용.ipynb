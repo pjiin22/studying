{
  "nbformat": 4,
  "nbformat_minor": 0,
  "metadata": {
    "colab": {
      "provenance": []
    },
    "kernelspec": {
      "name": "python3",
      "display_name": "Python 3"
    },
    "language_info": {
      "name": "python"
    }
  },
  "cells": [
    {
      "cell_type": "markdown",
      "source": [
        "# 1. 라이브러리란?"
      ],
      "metadata": {
        "id": "V6VQt36D_f5c"
      }
    },
    {
      "cell_type": "markdown",
      "source": [
        "- 다른 사람들이 만들어 둔 유용한 함수들의 모음\n",
        "- 자주 사용하는 기능을 쉽게 재사용할 수 있고 다른 사람과도 그 기능을 공유할 수 있습니다.\n",
        "- 표준 라이브러리: 파이썬을 설치할 때 자동으로 설치됩니다.\n",
        "- 외부 라이브러리: 기본으로 설치된 라이브러리가 아니므로 새로 설치해 주어야 합니다.\n",
        "\n",
        "`import 라이브러리명`\n",
        "\n",
        "외부 라이브러리를 다운 받으려면 \\\n",
        "`!pip install 라이브러리명`"
      ],
      "metadata": {
        "id": "Oe4dtIDh_jdE"
      }
    },
    {
      "cell_type": "markdown",
      "source": [
        "# 2. 살펴볼 라이브러리\n",
        "\n",
        "\n",
        "---\n",
        "random \\\n",
        "datetime \\\n",
        "math \\\n",
        "numpy \\\n",
        "counter\n"
      ],
      "metadata": {
        "id": "dluD4tmZ_42C"
      }
    },
    {
      "cell_type": "markdown",
      "source": [
        "## random"
      ],
      "metadata": {
        "id": "vgdchje4DdK8"
      }
    },
    {
      "cell_type": "markdown",
      "source": [
        "|함수명|설명|\n",
        "|:--|:--|\n",
        "|random()| 0~1 사이의 실수형의 수를 반환합니다.|\n",
        "|randint(시작, 끝)| 특정 범위 안의 랜덤한 정수를 반환합니다.|\n",
        "|random.choice(리스트)| 리스트 중에 랜덤하게 요소를 뽑습니다.|\n",
        "|random.sample(리스트, 갯수)| 리스트 중 입력한 갯수만큼 랜덤하게 요소를 뽑습니다.|\n",
        "|random.shuffle(리스트)| 리스트를 랜덤하게 섞습니다.|"
      ],
      "metadata": {
        "id": "RZ4ceBQxDhbI"
      }
    },
    {
      "cell_type": "code",
      "execution_count": 1,
      "metadata": {
        "colab": {
          "base_uri": "https://localhost:8080/",
          "height": 149
        },
        "id": "AfTOa89S_caK",
        "outputId": "54db11e8-7836-4b70-977d-826f7167d1cb"
      },
      "outputs": [
        {
          "output_type": "error",
          "ename": "NameError",
          "evalue": "name 'random' is not defined",
          "traceback": [
            "\u001b[0;31m---------------------------------------------------------------------------\u001b[0m",
            "\u001b[0;31mNameError\u001b[0m                                 Traceback (most recent call last)",
            "\u001b[0;32m<ipython-input-1-347a394b3b57>\u001b[0m in \u001b[0;36m<cell line: 1>\u001b[0;34m()\u001b[0m\n\u001b[0;32m----> 1\u001b[0;31m \u001b[0mrandom\u001b[0m\u001b[0;34m(\u001b[0m\u001b[0;34m)\u001b[0m\u001b[0;34m\u001b[0m\u001b[0;34m\u001b[0m\u001b[0m\n\u001b[0m",
            "\u001b[0;31mNameError\u001b[0m: name 'random' is not defined"
          ]
        }
      ],
      "source": [
        "random()"
      ]
    },
    {
      "cell_type": "code",
      "source": [
        "import random\n",
        "\n",
        "ranodm.random()"
      ],
      "metadata": {
        "id": "UeSKQiOKDont"
      },
      "execution_count": 2,
      "outputs": []
    },
    {
      "cell_type": "code",
      "source": [
        "#랜덤 범위 지정\n",
        "random.randint(1,1000)"
      ],
      "metadata": {
        "colab": {
          "base_uri": "https://localhost:8080/"
        },
        "id": "52hSQq7bDp2N",
        "outputId": "90d6e7f6-263b-4dea-c007-a919ea8c78cd"
      },
      "execution_count": 3,
      "outputs": [
        {
          "output_type": "execute_result",
          "data": {
            "text/plain": [
              "232"
            ]
          },
          "metadata": {},
          "execution_count": 3
        }
      ]
    },
    {
      "cell_type": "markdown",
      "source": [
        "choice : 리스트나 튜플과 같은 시퀀스 자료형에서 임의의 요소를 하나 선택하는 기능"
      ],
      "metadata": {
        "id": "pb81nmrCEBr8"
      }
    },
    {
      "cell_type": "code",
      "source": [
        "a = [i for i in range(5)]\n",
        "random.choice(a)"
      ],
      "metadata": {
        "colab": {
          "base_uri": "https://localhost:8080/"
        },
        "id": "KM2E34DSDvhQ",
        "outputId": "96a1b5ba-01ff-43a8-b711-38b10cfec457"
      },
      "execution_count": 4,
      "outputs": [
        {
          "output_type": "execute_result",
          "data": {
            "text/plain": [
              "4"
            ]
          },
          "metadata": {},
          "execution_count": 4
        }
      ]
    },
    {
      "cell_type": "markdown",
      "source": [
        "sample : 시퀀스에서 중복되지 않는 임의의 요소들을 선택하여 새로운 리스트를 반환"
      ],
      "metadata": {
        "id": "W-Hg3xlJERbx"
      }
    },
    {
      "cell_type": "code",
      "source": [
        "random.sample(a, 2)"
      ],
      "metadata": {
        "colab": {
          "base_uri": "https://localhost:8080/"
        },
        "id": "kz9V7mgjD2wL",
        "outputId": "deb7de33-d492-449e-9a19-41ee31394a91"
      },
      "execution_count": 5,
      "outputs": [
        {
          "output_type": "execute_result",
          "data": {
            "text/plain": [
              "[1, 0]"
            ]
          },
          "metadata": {},
          "execution_count": 5
        }
      ]
    },
    {
      "cell_type": "markdown",
      "source": [
        "shuffle 시퀀스의 요소들을 제자리에서 섞어 순서를 무작위로 변경합니다.\n",
        "\n"
      ],
      "metadata": {
        "id": "jStXExVHET2Y"
      }
    },
    {
      "cell_type": "code",
      "source": [
        "random.shuffle(a)\n",
        "print(a)"
      ],
      "metadata": {
        "colab": {
          "base_uri": "https://localhost:8080/"
        },
        "id": "k6NbRv2mD4cf",
        "outputId": "4edfa05a-f81b-455a-e60d-1356ff2cb5c3"
      },
      "execution_count": 6,
      "outputs": [
        {
          "output_type": "stream",
          "name": "stdout",
          "text": [
            "[4, 3, 1, 2, 0]\n"
          ]
        }
      ]
    },
    {
      "cell_type": "markdown",
      "source": [
        "## datetime"
      ],
      "metadata": {
        "id": "gKlJSvGUEaXf"
      }
    },
    {
      "cell_type": "markdown",
      "source": [
        "- 날짜와 시간을 저장합니다.\n",
        "\n",
        "|함수|설명|\n",
        "|:--|:--|\n",
        "|now()|현재 시각을 반환합니다. (timezone에 유의합니다.)|\n",
        "|year, month, day, hour, minute, second, microsecond|날짜, 시간 값을 반환합니다.|\n",
        "|date()| 연월일로 이루어진 날짜 객체를 반환합니다.|\n",
        "|time()|시간 객체를 반환합니다.|\n",
        "|strftime('날짜형식')| 날짜와 시간 정보를 문자열로 변환합니다.|\n",
        "|strptime(문자열, 날짜형식)|문자열을 날짜로 변환합니다.|"
      ],
      "metadata": {
        "id": "zJrwcezeEdng"
      }
    },
    {
      "cell_type": "code",
      "source": [
        "from datetime import datetime\n",
        "from pytz import timezone\n",
        "from datetime import timedelta"
      ],
      "metadata": {
        "id": "d9_nUl35D5mx"
      },
      "execution_count": 7,
      "outputs": []
    },
    {
      "cell_type": "code",
      "source": [
        "print(datetime.now())\n",
        "print(datetime.now(timezone('UTC')))\n",
        "print(datetime.now(timezone('Asia/Seoul')))"
      ],
      "metadata": {
        "colab": {
          "base_uri": "https://localhost:8080/"
        },
        "id": "XtWhQZ6xEn-6",
        "outputId": "5f34e169-f3b1-4567-82cf-9e4424bf9fda"
      },
      "execution_count": 8,
      "outputs": [
        {
          "output_type": "stream",
          "name": "stdout",
          "text": [
            "2024-10-02 07:13:22.175518\n",
            "2024-10-02 07:13:22.181270+00:00\n",
            "2024-10-02 16:13:22.232156+09:00\n"
          ]
        }
      ]
    },
    {
      "cell_type": "code",
      "source": [
        "x = datetime.now(timezone('Asia/Seoul'))\n",
        "\n",
        "print(x)\n",
        "print(x.year, x.month, x.day, x.hour, x.minute, x.second, x.microsecond)\n",
        "print(x.date(), x.time())\n",
        "print(x.weekday()) # {0:월, 1:화, 2:수, 3:목, 4:금, 5:토, 6:일}"
      ],
      "metadata": {
        "colab": {
          "base_uri": "https://localhost:8080/"
        },
        "id": "sDix599KE4fe",
        "outputId": "ebd82fa6-1dfc-441a-b850-285c44edd9a1"
      },
      "execution_count": 10,
      "outputs": [
        {
          "output_type": "stream",
          "name": "stdout",
          "text": [
            "2024-10-02 16:13:42.000210+09:00\n",
            "2024 10 2 16 13 42 210\n",
            "2024-10-02 16:13:42.000210\n",
            "2\n"
          ]
        }
      ]
    },
    {
      "cell_type": "code",
      "source": [
        "# 다양한 시간 출력 형태\n",
        "x.strftime('%Y-%m-%d')\n",
        "print(x)\n",
        "x.strftime('%Y%m%d')\n",
        "print(x)\n",
        "x.strftime('%Y/%m')\n",
        "print(x)\n",
        "datetime.strptime('2023-05-01', '%Y-%m-%d')"
      ],
      "metadata": {
        "colab": {
          "base_uri": "https://localhost:8080/"
        },
        "id": "evHIJgpNE7l1",
        "outputId": "cb0e2204-68f0-4371-e72d-edd1dcfae66a"
      },
      "execution_count": 12,
      "outputs": [
        {
          "output_type": "stream",
          "name": "stdout",
          "text": [
            "2024-10-02 16:13:42.000210+09:00\n",
            "2024-10-02 16:13:42.000210+09:00\n",
            "2024-10-02 16:13:42.000210+09:00\n"
          ]
        },
        {
          "output_type": "execute_result",
          "data": {
            "text/plain": [
              "datetime.datetime(2023, 5, 1, 0, 0)"
            ]
          },
          "metadata": {},
          "execution_count": 12
        }
      ]
    },
    {
      "cell_type": "markdown",
      "source": [
        "####다양한 시간 연산\n",
        "'timedelta` 클래스 \\\n",
        ": 시간 구간을 저장하며 날짜 연산을 할 때 쓰입니다."
      ],
      "metadata": {
        "id": "lJM4vsxWFagY"
      }
    },
    {
      "cell_type": "code",
      "source": [
        "print(x)\n",
        "\n",
        "print(x - timedelta(days=7))\n",
        "print((x + timedelta(days=30)).strftime('%Y-%m-%d'))\n",
        "\n",
        "\n",
        "#상대적 날짜 변화 계산\n",
        "from dateutil.relativedelta import relativedelta\n",
        "\n",
        "print(x - relativedelta(months=1))\n",
        "print(x + relativedelta(years=2))"
      ],
      "metadata": {
        "colab": {
          "base_uri": "https://localhost:8080/"
        },
        "id": "F1KXZpf3FQII",
        "outputId": "9fa74ded-d0cd-466c-e013-2f0c3a33e910"
      },
      "execution_count": 17,
      "outputs": [
        {
          "output_type": "stream",
          "name": "stdout",
          "text": [
            "2024-10-02 16:13:42.000210+09:00\n",
            "2024-09-25 16:13:42.000210+09:00\n",
            "2024-11-01\n",
            "2024-09-02 16:13:42.000210+09:00\n",
            "2026-10-02 16:13:42.000210+09:00\n"
          ]
        }
      ]
    },
    {
      "cell_type": "markdown",
      "source": [
        "## math"
      ],
      "metadata": {
        "id": "dWpKcjrzF6Ae"
      }
    },
    {
      "cell_type": "markdown",
      "source": [
        "|함수|\t설명|\n",
        "|:--|:--|\n",
        "|math.pi|\t원주율|\n",
        "|math.e|\t자연상수|\n",
        "|abs()|\t절댓값(내장함수)|\n",
        "|round()|\t반올림(내장함수)|\n",
        "|math.ceil()|올림|\n",
        "|math.floor()|내림|\n",
        "|math.factorial()|\t팩토리얼|\n",
        "|math.pow()|\t제곱 연산|\n",
        "|math.sqrt()|\t제곱근 연산|"
      ],
      "metadata": {
        "id": "vPtVc0-9F9zY"
      }
    },
    {
      "cell_type": "code",
      "source": [
        "import math"
      ],
      "metadata": {
        "id": "SQpFQKP0F9hW"
      },
      "execution_count": 19,
      "outputs": []
    },
    {
      "cell_type": "code",
      "source": [
        "math.pi"
      ],
      "metadata": {
        "colab": {
          "base_uri": "https://localhost:8080/"
        },
        "id": "cv-FhpqjFjnF",
        "outputId": "f889d695-0cb4-419f-bb98-37ec32666c23"
      },
      "execution_count": 20,
      "outputs": [
        {
          "output_type": "execute_result",
          "data": {
            "text/plain": [
              "3.141592653589793"
            ]
          },
          "metadata": {},
          "execution_count": 20
        }
      ]
    },
    {
      "cell_type": "code",
      "source": [
        "math.e"
      ],
      "metadata": {
        "colab": {
          "base_uri": "https://localhost:8080/"
        },
        "id": "d9TjNThQF8cj",
        "outputId": "a77e6197-0031-4688-e77a-7f60e96a4639"
      },
      "execution_count": 21,
      "outputs": [
        {
          "output_type": "execute_result",
          "data": {
            "text/plain": [
              "2.718281828459045"
            ]
          },
          "metadata": {},
          "execution_count": 21
        }
      ]
    },
    {
      "cell_type": "code",
      "source": [
        "abs(-314)"
      ],
      "metadata": {
        "colab": {
          "base_uri": "https://localhost:8080/"
        },
        "id": "ueVwx2sUGDTW",
        "outputId": "d31e34d4-31bf-4196-a111-097517908a57"
      },
      "execution_count": 22,
      "outputs": [
        {
          "output_type": "execute_result",
          "data": {
            "text/plain": [
              "314"
            ]
          },
          "metadata": {},
          "execution_count": 22
        }
      ]
    },
    {
      "cell_type": "code",
      "source": [
        "round(2.123, 2)"
      ],
      "metadata": {
        "colab": {
          "base_uri": "https://localhost:8080/"
        },
        "id": "z59sARjUGEYQ",
        "outputId": "29032738-543d-4bd1-f28f-51ce792cca3b"
      },
      "execution_count": 23,
      "outputs": [
        {
          "output_type": "execute_result",
          "data": {
            "text/plain": [
              "2.12"
            ]
          },
          "metadata": {},
          "execution_count": 23
        }
      ]
    },
    {
      "cell_type": "code",
      "source": [
        "math.ceil(2.124)"
      ],
      "metadata": {
        "colab": {
          "base_uri": "https://localhost:8080/"
        },
        "id": "IRvOFfcOGFmn",
        "outputId": "f2462938-2e59-4a79-945a-c701b03a40bc"
      },
      "execution_count": 24,
      "outputs": [
        {
          "output_type": "execute_result",
          "data": {
            "text/plain": [
              "3"
            ]
          },
          "metadata": {},
          "execution_count": 24
        }
      ]
    },
    {
      "cell_type": "code",
      "source": [
        "math.floor(2.124)"
      ],
      "metadata": {
        "colab": {
          "base_uri": "https://localhost:8080/"
        },
        "id": "sUkK0jv2GGol",
        "outputId": "1b8ecef5-66de-42c6-cc8d-60bc829955c7"
      },
      "execution_count": 25,
      "outputs": [
        {
          "output_type": "execute_result",
          "data": {
            "text/plain": [
              "2"
            ]
          },
          "metadata": {},
          "execution_count": 25
        }
      ]
    },
    {
      "cell_type": "code",
      "source": [
        "math.factorial(5)"
      ],
      "metadata": {
        "colab": {
          "base_uri": "https://localhost:8080/"
        },
        "id": "UaXQW2sFGHy6",
        "outputId": "d2bdca6f-264b-418c-aaae-7257e340f0c7"
      },
      "execution_count": 26,
      "outputs": [
        {
          "output_type": "execute_result",
          "data": {
            "text/plain": [
              "120"
            ]
          },
          "metadata": {},
          "execution_count": 26
        }
      ]
    },
    {
      "cell_type": "code",
      "source": [
        "math.pow(5, 3)"
      ],
      "metadata": {
        "colab": {
          "base_uri": "https://localhost:8080/"
        },
        "id": "dTnMq0S7GI3n",
        "outputId": "c830a68d-c807-4c29-bc7f-4bf345263a50"
      },
      "execution_count": 27,
      "outputs": [
        {
          "output_type": "execute_result",
          "data": {
            "text/plain": [
              "125.0"
            ]
          },
          "metadata": {},
          "execution_count": 27
        }
      ]
    },
    {
      "cell_type": "code",
      "source": [
        "math.sqrt(25)"
      ],
      "metadata": {
        "colab": {
          "base_uri": "https://localhost:8080/"
        },
        "id": "SqrbkcKyGJ40",
        "outputId": "94f728ae-b483-4f44-96e3-c0bae3ff5293"
      },
      "execution_count": 28,
      "outputs": [
        {
          "output_type": "execute_result",
          "data": {
            "text/plain": [
              "5.0"
            ]
          },
          "metadata": {},
          "execution_count": 28
        }
      ]
    },
    {
      "cell_type": "markdown",
      "source": [
        "## numpy"
      ],
      "metadata": {
        "id": "ZfKFt8xtGMT0"
      }
    },
    {
      "cell_type": "markdown",
      "source": [
        "- 벡터/행렬 연산을 도와주는 라이브러리"
      ],
      "metadata": {
        "id": "W6uaUT5JG7gq"
      }
    },
    {
      "cell_type": "code",
      "source": [
        "import numpy as np"
      ],
      "metadata": {
        "id": "xLMroodzGLAF"
      },
      "execution_count": 29,
      "outputs": []
    },
    {
      "cell_type": "code",
      "source": [
        "ls = random.sample([i for i in range(1000)],100)\n",
        "\n",
        "print(np.mean(ls))\n",
        "print(np.var(ls))\n",
        "print(np.std(ls))\n",
        "print(np.sum(ls))"
      ],
      "metadata": {
        "colab": {
          "base_uri": "https://localhost:8080/"
        },
        "id": "K8zu_JqaG_gd",
        "outputId": "50ad2208-c112-444f-a703-66331b8760b2"
      },
      "execution_count": 30,
      "outputs": [
        {
          "output_type": "stream",
          "name": "stdout",
          "text": [
            "469.81\n",
            "89566.35390000003\n",
            "299.2763837993236\n",
            "46981\n"
          ]
        }
      ]
    },
    {
      "cell_type": "markdown",
      "source": [
        "## counter"
      ],
      "metadata": {
        "id": "5UdLkwEpHDAI"
      }
    },
    {
      "cell_type": "code",
      "source": [
        "from collections import Counter\n",
        "\n",
        "ls = ['a','a','b','b','b','c','d','d','d','d']\n",
        "Counter(ls)"
      ],
      "metadata": {
        "colab": {
          "base_uri": "https://localhost:8080/"
        },
        "id": "u6yWNrVMHCTR",
        "outputId": "b58447fe-65d7-4e69-e363-0a03d2df3dfd"
      },
      "execution_count": 31,
      "outputs": [
        {
          "output_type": "execute_result",
          "data": {
            "text/plain": [
              "Counter({'a': 2, 'b': 3, 'c': 1, 'd': 4})"
            ]
          },
          "metadata": {},
          "execution_count": 31
        }
      ]
    },
    {
      "cell_type": "code",
      "source": [
        "count_dic = Counter(ls) #변수명에 저장시키기\n",
        "print(count_dic.most_common())\n",
        "print(count_dic.most_common(1))\n",
        "print(count_dic.most_common(2))"
      ],
      "metadata": {
        "colab": {
          "base_uri": "https://localhost:8080/"
        },
        "id": "hd5tZ3lbHIQj",
        "outputId": "bc26acbd-6230-433a-9623-f19a29fa76cc"
      },
      "execution_count": 33,
      "outputs": [
        {
          "output_type": "stream",
          "name": "stdout",
          "text": [
            "[('d', 4), ('b', 3), ('a', 2), ('c', 1)]\n",
            "[('d', 4)]\n",
            "[('d', 4), ('b', 3)]\n"
          ]
        }
      ]
    }
  ]
}